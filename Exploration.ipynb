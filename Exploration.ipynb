{
 "cells": [
  {
   "cell_type": "code",
   "execution_count": 1,
   "metadata": {},
   "outputs": [],
   "source": [
    "%lsmagic\n",
    "%load_ext sql\n",
    "%sql postgresql://postgres@localhost:5432/"
   ]
  },
  {
   "cell_type": "markdown",
   "metadata": {},
   "source": [
    "# Data Exploration"
   ]
  },
  {
   "cell_type": "markdown",
   "metadata": {},
   "source": [
    "## 1. Identifying table relationships"
   ]
  },
  {
   "cell_type": "markdown",
   "metadata": {},
   "source": [
    "Before diving straight into solution mode for the business requirements, I need to take a look at the data with EDR (Entity-Relationship Diagrams) to identify different data relationships between tables. The EDR of these datasets can be viewed as below:\n",
    "(image)\n",
    "I’ve labeled each of our spotlight tables from 1 through to 7 so we can keep track of where we are as we explore the available data."
   ]
  },
  {
   "cell_type": "markdown",
   "metadata": {},
   "source": [
    "## 2. Identifying Key Columns\n",
    "To generate each customer insight we need the following inputs:\n",
    "\n",
    "* `category_name`: The name of the top or second ranking category\n",
    "\n",
    "* `rental_count`: How many total films have they watched in this category?\n",
    "\n",
    "* `average_comparison`: How many more films has the customer watched compared to the average DVD Rental Co customer?\n",
    "\n",
    "* `percentile`: How does the customer rank in terms of the top X% compared to all other customers in this film category?\n",
    "\n",
    "* `category_percentage`: What proportion of each customer’s total films watched does this count make?\n",
    "\n",
    "The top category insight will use these inputs in the following text output:\n",
    "\n",
    "> You’ve watched {`rental_count`} {`category_name`} films, that’s {`average_comparison`} more than the Dvd Rental Co average and puts you in the top {percentile}% of {`category_name`} gurus!\n",
    "\n",
    "The second category insight text output uses the fields in a similar way:\n",
    "\n",
    "> You’ve watched {`rental_count`} {`category_name`} films making up {`category_percentage`}% of your entire viewing history!\n",
    "\n",
    "The top actor information output will use the fields as follows:\n",
    "\n",
    "> You’ve watched <`rental_count`> films featuring <`actor_name`>! Here are some other films <`first_name`> stars in that might interest you!\n"
   ]
  },
  {
   "cell_type": "markdown",
   "metadata": {},
   "source": [
    "## 3. Identifying Start & End Points"
   ]
  },
  {
   "cell_type": "markdown",
   "metadata": {},
   "source": [
    "In order to generate datasets required to calculate rental_count at a `customer_id` level, the following information was needed:\n",
    "\n",
    "* `customer_id`\n",
    "* `category_name`\n",
    "\n",
    "However, if going back to the EDR review, I also noticed that the `dvd_rentals.rental` table was the only place where my `customer_id` field exists - it’s the only place where we can identify how many films a customer has watched and the `dvd_rentals.category` table was the only table which I can get values of `category_name` field."
   ]
  },
  {
   "cell_type": "markdown",
   "metadata": {},
   "source": [
    "## 4. Mapping the Joining Journey"
   ]
  },
  {
   "cell_type": "markdown",
   "metadata": {},
   "source": [
    "After inspecting the ERD, I need to somehow connect all the data dots from tables starting from `dvd_rentals.rental` labeled as number 1 all the way through to table number 5 - `dvd_rentals.category`.\n",
    "\n",
    "So here is the final version of my 4 part table joining journey itinerary:\n",
    "\n",
    "| Join Journey Part | Start          | End            | Foreign Key   |\n",
    "|-------------------|----------------|----------------|---------------|\n",
    "| Part 1            | `rental`       | `inventory`    | `inventory_id`|\n",
    "| Part 2            | `inventory`    | `film`         | `film_id`     |\n",
    "| Part 3            | `film`         | `film_category`| `film_id`     |\n",
    "| Part 4            | `film_category`| `category`     | `category_id` |\n",
    "\n",
    "If I were to map out the different tables which I need to join as part of my journey - it would look something like this gif below:\n",
    "\n",
    "<img src=\"images/joining-journey.gif\">"
   ]
  },
  {
   "cell_type": "markdown",
   "metadata": {},
   "source": [
    "### 4.1. Join Journey Part 1"
   ]
  },
  {
   "cell_type": "markdown",
   "metadata": {},
   "source": [
    "To answer this one question *What type of table join should I use?* , actually need to answer 3 additional questions.\n",
    "\n",
    "* What is the purpose of joining these two tables?\n",
    "\n",
    "* What is the distribution of foreign keys within each table?\n",
    "\n",
    "* How many unique foreign key values exist in each table?"
   ]
  },
  {
   "cell_type": "markdown",
   "metadata": {},
   "source": [
    "#### Question 1: What is the purpose of joining these two tables?"
   ]
  },
  {
   "cell_type": "markdown",
   "metadata": {},
   "source": [
    "If going back to the insights found in the Identify Key Columns, the important thing needed was to generate the `rental_count` calculation - the number of films that a customer has watched in a specific category.\n",
    "\n",
    "In order to do this, I would need to:\n",
    "\n",
    "Keep all of the customer rental records from `dvd_rentals.rental` and match up each record with its equivalent `film_id` value from the `dvd_rentals.inventory` table.\n",
    "\n",
    "However, there are a few unknowns that I need to address as I are matching the `inventory_id` foreign key between the rental and inventory tables.\n",
    "\n",
    "*1.1. How many records exist per inventory_id value in rental or inventory tables?*\n",
    "\n",
    "*1.2. How many overlapping and missing unique foreign key values are there between the two tables?*"
   ]
  },
  {
   "cell_type": "markdown",
   "metadata": {},
   "source": [
    "##### 1.1. How many records exist per inventory_id value in rental or inventory tables?"
   ]
  },
  {
   "cell_type": "markdown",
   "metadata": {},
   "source": [
    "Since I know that the `rental` table contains every single rental for each customer - it makes sense logically that each valid rental record in the `rental` table should have a relevant `inventory_id` record as people need to physically hire some item in the store.\n",
    "\n",
    "Additionally - it also makes sense that a specific item might be rented out by multiple customers at different times as customers return the DVD as shown by the `return_date` column in the dataset.\n",
    "\n",
    "Now when I think about the `inventory` table - it should follow that every item should have a unique `inventory_id` but there may also be multiple copies of a specific film.\n",
    "\n",
    "From these 2 key pieces of real life insight - I can generate 3 hypotheses about my datasets.\n",
    "\n",
    "* The number of unique `inventory_id` records will be equal in both `dvd_rentals.rental` and `dvd_rentals.inventory` tables\n",
    "\n",
    "* There will be a multiple records per unique `inventory_id` in the `dvd_rentals.rental` table\n",
    "\n",
    "* There will be multiple `inventory_id` records per unique `film_id` value in the `dvd_rentals.inventory` table"
   ]
  },
  {
   "cell_type": "markdown",
   "metadata": {},
   "source": [
    "###### Hypothesis 1:"
   ]
  },
  {
   "cell_type": "markdown",
   "metadata": {},
   "source": [
    "**The number of unique `inventory_id` records will be equal in both `dvd_rentals.rental` and `dvd_rentals.inventory` tables**"
   ]
  },
  {
   "cell_type": "code",
   "execution_count": 17,
   "metadata": {},
   "outputs": [
    {
     "name": "stdout",
     "output_type": "stream",
     "text": [
      " * postgresql://postgres@localhost:5432/\n",
      "2 rows affected.\n"
     ]
    },
    {
     "data": {
      "text/html": [
       "<table>\n",
       "    <thead>\n",
       "        <tr>\n",
       "            <th>table_name</th>\n",
       "            <th>count</th>\n",
       "        </tr>\n",
       "    </thead>\n",
       "    <tbody>\n",
       "        <tr>\n",
       "            <td>inventory table</td>\n",
       "            <td>4581</td>\n",
       "        </tr>\n",
       "        <tr>\n",
       "            <td>rental table</td>\n",
       "            <td>4580</td>\n",
       "        </tr>\n",
       "    </tbody>\n",
       "</table>"
      ],
      "text/plain": [
       "[('inventory table', 4581), ('rental table', 4580)]"
      ]
     },
     "execution_count": 17,
     "metadata": {},
     "output_type": "execute_result"
    }
   ],
   "source": [
    "%%sql\n",
    "(\n",
    "SELECT\n",
    "  'rental table' AS table_name,\n",
    "  COUNT(DISTINCT inventory_id)\n",
    "FROM dvd_rentals.rental\n",
    ")\n",
    "UNION\n",
    "(\n",
    "SELECT\n",
    "  'inventory table' AS table_name,\n",
    "  COUNT(DISTINCT inventory_id)\n",
    "FROM dvd_rentals.inventory\n",
    ")\n"
   ]
  },
  {
   "cell_type": "markdown",
   "metadata": {},
   "source": [
    "**Findings:**\n",
    "There seems to be 1 additional `inventory_id` value in the `dvd_rentals.inventory` table compared to the `dvd_rentals.rental` table.\n"
   ]
  },
  {
   "cell_type": "markdown",
   "metadata": {},
   "source": [
    "###### Hypothesis 2: "
   ]
  },
  {
   "cell_type": "markdown",
   "metadata": {},
   "source": [
    "**There will be a multiple records per unique `inventory_id` in the `dvd_rentals.rental` table**"
   ]
  },
  {
   "cell_type": "code",
   "execution_count": 19,
   "metadata": {},
   "outputs": [
    {
     "name": "stdout",
     "output_type": "stream",
     "text": [
      " * postgresql://postgres@localhost:5432/\n",
      "5 rows affected.\n"
     ]
    },
    {
     "data": {
      "text/html": [
       "<table>\n",
       "    <thead>\n",
       "        <tr>\n",
       "            <th>row_counts</th>\n",
       "            <th>count_of_target_values</th>\n",
       "        </tr>\n",
       "    </thead>\n",
       "    <tbody>\n",
       "        <tr>\n",
       "            <td>1</td>\n",
       "            <td>4</td>\n",
       "        </tr>\n",
       "        <tr>\n",
       "            <td>2</td>\n",
       "            <td>1126</td>\n",
       "        </tr>\n",
       "        <tr>\n",
       "            <td>3</td>\n",
       "            <td>1151</td>\n",
       "        </tr>\n",
       "        <tr>\n",
       "            <td>4</td>\n",
       "            <td>1160</td>\n",
       "        </tr>\n",
       "        <tr>\n",
       "            <td>5</td>\n",
       "            <td>1139</td>\n",
       "        </tr>\n",
       "    </tbody>\n",
       "</table>"
      ],
      "text/plain": [
       "[(1, 4), (2, 1126), (3, 1151), (4, 1160), (5, 1139)]"
      ]
     },
     "execution_count": 19,
     "metadata": {},
     "output_type": "execute_result"
    }
   ],
   "source": [
    "%%sql\n",
    "-- first generate group by counts on the target_column_values column\n",
    "WITH counts_base AS (\n",
    "SELECT\n",
    "  inventory_id AS target_column_values,\n",
    "  COUNT(*) AS row_counts\n",
    "FROM dvd_rentals.rental\n",
    "GROUP BY target_column_values\n",
    ")\n",
    "-- summarize the group by counts above by grouping again on the row_counts from counts_base CTE part\n",
    "SELECT\n",
    "  row_counts,\n",
    "  COUNT(target_column_values) as count_of_target_values\n",
    "FROM counts_base\n",
    "GROUP BY row_counts\n",
    "ORDER BY row_counts\n"
   ]
  },
  {
   "cell_type": "markdown",
   "metadata": {},
   "source": [
    "**Findings:**\n",
    "There are multiple rows per `inventory_id` value in the `dvd_rentals.rental` table."
   ]
  },
  {
   "cell_type": "markdown",
   "metadata": {},
   "source": [
    "###### Hypothesis 3:"
   ]
  },
  {
   "cell_type": "markdown",
   "metadata": {},
   "source": [
    "**There will be multiple `inventory_id` records per unique `film_id` value in the `dvd_rentals.inventory` table**"
   ]
  },
  {
   "cell_type": "code",
   "execution_count": 16,
   "metadata": {},
   "outputs": [
    {
     "name": "stdout",
     "output_type": "stream",
     "text": [
      " * postgresql://postgres@localhost:5432/\n",
      "7 rows affected.\n"
     ]
    },
    {
     "data": {
      "text/html": [
       "<table>\n",
       "    <thead>\n",
       "        <tr>\n",
       "            <th>unique_record_counts</th>\n",
       "            <th>count_of_target_values</th>\n",
       "        </tr>\n",
       "    </thead>\n",
       "    <tbody>\n",
       "        <tr>\n",
       "            <td>2</td>\n",
       "            <td>133</td>\n",
       "        </tr>\n",
       "        <tr>\n",
       "            <td>3</td>\n",
       "            <td>131</td>\n",
       "        </tr>\n",
       "        <tr>\n",
       "            <td>4</td>\n",
       "            <td>183</td>\n",
       "        </tr>\n",
       "        <tr>\n",
       "            <td>5</td>\n",
       "            <td>136</td>\n",
       "        </tr>\n",
       "        <tr>\n",
       "            <td>6</td>\n",
       "            <td>187</td>\n",
       "        </tr>\n",
       "        <tr>\n",
       "            <td>7</td>\n",
       "            <td>116</td>\n",
       "        </tr>\n",
       "        <tr>\n",
       "            <td>8</td>\n",
       "            <td>72</td>\n",
       "        </tr>\n",
       "    </tbody>\n",
       "</table>"
      ],
      "text/plain": [
       "[(2, 133), (3, 131), (4, 183), (5, 136), (6, 187), (7, 116), (8, 72)]"
      ]
     },
     "execution_count": 16,
     "metadata": {},
     "output_type": "execute_result"
    }
   ],
   "source": [
    "%%sql\n",
    "-- first generate group by counts on the target_column_values column\n",
    "WITH counts_base AS (\n",
    "SELECT\n",
    "  film_id AS target_column_values,\n",
    "  COUNT(DISTINCT inventory_id) AS unique_record_counts\n",
    "FROM dvd_rentals.inventory\n",
    "GROUP BY target_column_values\n",
    ")\n",
    "-- summarize the group by counts above by grouping again on the row_counts from counts_base CTE part\n",
    "SELECT\n",
    "  unique_record_counts,\n",
    "  COUNT(target_column_values) as count_of_target_values\n",
    "FROM counts_base\n",
    "GROUP BY unique_record_counts\n",
    "ORDER BY unique_record_counts;\n"
   ]
  },
  {
   "cell_type": "markdown",
   "metadata": {},
   "source": [
    "**Findings:**\n",
    "There are indeed multiple unique `inventory_id` per `film_id` value in the `dvd_rentals.inventory` table.\n"
   ]
  },
  {
   "cell_type": "markdown",
   "metadata": {},
   "source": [
    "##### 1.2. How many overlapping and missing unique foreign key values are there between the two tables?"
   ]
  },
  {
   "cell_type": "markdown",
   "metadata": {},
   "source": [
    "One of the first places to start inspecting my datasets is to look at the distribution of foreign key values in each `rental` and `inventory` table used for my join."
   ]
  },
  {
   "cell_type": "markdown",
   "metadata": {},
   "source": [
    "**`rental` distribution analysis on `inventory_id` foreign key**"
   ]
  },
  {
   "cell_type": "code",
   "execution_count": 20,
   "metadata": {},
   "outputs": [
    {
     "name": "stdout",
     "output_type": "stream",
     "text": [
      " * postgresql://postgres@localhost:5432/\n",
      "5 rows affected.\n"
     ]
    },
    {
     "data": {
      "text/html": [
       "<table>\n",
       "    <thead>\n",
       "        <tr>\n",
       "            <th>row_counts</th>\n",
       "            <th>count_of_foreign_keys</th>\n",
       "        </tr>\n",
       "    </thead>\n",
       "    <tbody>\n",
       "        <tr>\n",
       "            <td>1</td>\n",
       "            <td>4</td>\n",
       "        </tr>\n",
       "        <tr>\n",
       "            <td>2</td>\n",
       "            <td>1126</td>\n",
       "        </tr>\n",
       "        <tr>\n",
       "            <td>3</td>\n",
       "            <td>1151</td>\n",
       "        </tr>\n",
       "        <tr>\n",
       "            <td>4</td>\n",
       "            <td>1160</td>\n",
       "        </tr>\n",
       "        <tr>\n",
       "            <td>5</td>\n",
       "            <td>1139</td>\n",
       "        </tr>\n",
       "    </tbody>\n",
       "</table>"
      ],
      "text/plain": [
       "[(1, 4), (2, 1126), (3, 1151), (4, 1160), (5, 1139)]"
      ]
     },
     "execution_count": 20,
     "metadata": {},
     "output_type": "execute_result"
    }
   ],
   "source": [
    "%%sql \n",
    "-- first generate group by counts on the foreign_key_values column\n",
    "WITH counts_base AS (\n",
    "SELECT\n",
    "  inventory_id AS foreign_key_values,\n",
    "  COUNT(*) AS row_counts\n",
    "FROM dvd_rentals.rental\n",
    "GROUP BY foreign_key_values\n",
    ")\n",
    "-- summarize the group by counts above by grouping again on the row_counts from counts_base CTE part\n",
    "SELECT\n",
    "  row_counts,\n",
    "  COUNT(foreign_key_values) as count_of_foreign_keys\n",
    "FROM counts_base\n",
    "GROUP BY row_counts\n",
    "ORDER BY row_counts"
   ]
  },
  {
   "cell_type": "markdown",
   "metadata": {},
   "source": [
    "**`inventory` distribution analysis on `inventory_id` foreign key**"
   ]
  },
  {
   "cell_type": "code",
   "execution_count": 22,
   "metadata": {},
   "outputs": [
    {
     "name": "stdout",
     "output_type": "stream",
     "text": [
      " * postgresql://postgres@localhost:5432/\n",
      "1 rows affected.\n"
     ]
    },
    {
     "data": {
      "text/html": [
       "<table>\n",
       "    <thead>\n",
       "        <tr>\n",
       "            <th>row_counts</th>\n",
       "            <th>count_of_foreign_keys</th>\n",
       "        </tr>\n",
       "    </thead>\n",
       "    <tbody>\n",
       "        <tr>\n",
       "            <td>1</td>\n",
       "            <td>4581</td>\n",
       "        </tr>\n",
       "    </tbody>\n",
       "</table>"
      ],
      "text/plain": [
       "[(1, 4581)]"
      ]
     },
     "execution_count": 22,
     "metadata": {},
     "output_type": "execute_result"
    }
   ],
   "source": [
    "%%sql\n",
    "WITH counts_base AS (\n",
    "SELECT\n",
    "  inventory_id AS foreign_key_values,\n",
    "  COUNT(*) AS row_counts\n",
    "FROM dvd_rentals.inventory\n",
    "GROUP BY foreign_key_values\n",
    ")\n",
    "SELECT\n",
    "  row_counts,\n",
    "  COUNT(foreign_key_values) as count_of_foreign_keys\n",
    "FROM counts_base\n",
    "GROUP BY row_counts\n",
    "ORDER BY row_counts"
   ]
  },
  {
   "cell_type": "markdown",
   "metadata": {},
   "source": [
    "**FINDING:**\n",
    "\n",
    "* Rental table: There may exist 1 or more record for each unique `inventory_id` value in this table - *a 1-to-many relationship* for the `inventory_id`\n",
    "\n",
    "* Inventory table: For every single unique `inventory_id` value in the inventory table - there exists only 1 table row record - *a 1-to-1 relationship*\n"
   ]
  },
  {
   "cell_type": "markdown",
   "metadata": {},
   "source": [
    "**How many foreign keys only exist in the left table and not in the right?**"
   ]
  },
  {
   "cell_type": "code",
   "execution_count": 24,
   "metadata": {},
   "outputs": [
    {
     "name": "stdout",
     "output_type": "stream",
     "text": [
      " * postgresql://postgres@localhost:5432/\n",
      "1 rows affected.\n"
     ]
    },
    {
     "data": {
      "text/html": [
       "<table>\n",
       "    <thead>\n",
       "        <tr>\n",
       "            <th>count</th>\n",
       "        </tr>\n",
       "    </thead>\n",
       "    <tbody>\n",
       "        <tr>\n",
       "            <td>1</td>\n",
       "        </tr>\n",
       "    </tbody>\n",
       "</table>"
      ],
      "text/plain": [
       "[(1,)]"
      ]
     },
     "execution_count": 24,
     "metadata": {},
     "output_type": "execute_result"
    }
   ],
   "source": [
    "%%sql\n",
    "SELECT\n",
    "  COUNT(DISTINCT inventory.inventory_id)\n",
    "FROM dvd_rentals.inventory\n",
    "WHERE NOT EXISTS (\n",
    "  SELECT inventory_id\n",
    "  FROM dvd_rentals.rental\n",
    "  WHERE rental.inventory_id = inventory.inventory_id\n",
    ")\n"
   ]
  },
  {
   "cell_type": "code",
   "execution_count": 29,
   "metadata": {},
   "outputs": [
    {
     "name": "stdout",
     "output_type": "stream",
     "text": [
      " * postgresql://postgres@localhost:5432/\n",
      "1 rows affected.\n"
     ]
    },
    {
     "data": {
      "text/html": [
       "<table>\n",
       "    <thead>\n",
       "        <tr>\n",
       "            <th>inventory_id</th>\n",
       "            <th>film_id</th>\n",
       "            <th>store_id</th>\n",
       "            <th>last_update</th>\n",
       "        </tr>\n",
       "    </thead>\n",
       "    <tbody>\n",
       "        <tr>\n",
       "            <td>5</td>\n",
       "            <td>1</td>\n",
       "            <td>2</td>\n",
       "            <td>2006-02-15 05:09:17</td>\n",
       "        </tr>\n",
       "    </tbody>\n",
       "</table>"
      ],
      "text/plain": [
       "[(5, 1, 2, datetime.datetime(2006, 2, 15, 5, 9, 17))]"
      ]
     },
     "execution_count": 29,
     "metadata": {},
     "output_type": "execute_result"
    }
   ],
   "source": [
    "%%sql \n",
    "-- Spot a single inventory_id record.\n",
    "SELECT *\n",
    "FROM dvd_rentals.inventory\n",
    "WHERE NOT EXISTS (\n",
    "  SELECT inventory_id\n",
    "  FROM dvd_rentals.rental\n",
    "  WHERE rental.inventory_id = inventory.inventory_id\n",
    ")"
   ]
  },
  {
   "cell_type": "markdown",
   "metadata": {},
   "source": [
    "**Get the count of unique foreign key values that are in the intersection.**"
   ]
  },
  {
   "cell_type": "code",
   "execution_count": 30,
   "metadata": {},
   "outputs": [
    {
     "name": "stdout",
     "output_type": "stream",
     "text": [
      " * postgresql://postgres@localhost:5432/\n",
      "1 rows affected.\n"
     ]
    },
    {
     "data": {
      "text/html": [
       "<table>\n",
       "    <thead>\n",
       "        <tr>\n",
       "            <th>count</th>\n",
       "        </tr>\n",
       "    </thead>\n",
       "    <tbody>\n",
       "        <tr>\n",
       "            <td>4580</td>\n",
       "        </tr>\n",
       "    </tbody>\n",
       "</table>"
      ],
      "text/plain": [
       "[(4580,)]"
      ]
     },
     "execution_count": 30,
     "metadata": {},
     "output_type": "execute_result"
    }
   ],
   "source": [
    "%%sql \n",
    "SELECT\n",
    "  COUNT(DISTINCT rental.inventory_id)\n",
    "FROM dvd_rentals.rental\n",
    "WHERE EXISTS (\n",
    "  SELECT inventory_id\n",
    "  FROM dvd_rentals.inventory\n",
    "  WHERE rental.inventory_id = inventory.inventory_id\n",
    ")"
   ]
  },
  {
   "cell_type": "markdown",
   "metadata": {},
   "source": [
    "**FINDING:**\n",
    "After performing this analysis I can conclude there is in fact no difference between running a LEFT JOIN or an INNER JOIN."
   ]
  },
  {
   "cell_type": "markdown",
   "metadata": {},
   "source": [
    "#### Implementing the join"
   ]
  },
  {
   "cell_type": "markdown",
   "metadata": {},
   "source": [
    "**Inspect if the INNER JOIN is the same with LEFT JOIN or not in this case example:**"
   ]
  },
  {
   "cell_type": "code",
   "execution_count": 31,
   "metadata": {},
   "outputs": [
    {
     "name": "stdout",
     "output_type": "stream",
     "text": [
      " * postgresql://postgres@localhost:5432/\n",
      "Done.\n",
      "16044 rows affected.\n",
      "Done.\n",
      "16044 rows affected.\n",
      "2 rows affected.\n"
     ]
    },
    {
     "data": {
      "text/html": [
       "<table>\n",
       "    <thead>\n",
       "        <tr>\n",
       "            <th>join_type</th>\n",
       "            <th>record_count</th>\n",
       "            <th>unique_key_values</th>\n",
       "        </tr>\n",
       "    </thead>\n",
       "    <tbody>\n",
       "        <tr>\n",
       "            <td>inner join</td>\n",
       "            <td>16044</td>\n",
       "            <td>4580</td>\n",
       "        </tr>\n",
       "        <tr>\n",
       "            <td>left join</td>\n",
       "            <td>16044</td>\n",
       "            <td>4580</td>\n",
       "        </tr>\n",
       "    </tbody>\n",
       "</table>"
      ],
      "text/plain": [
       "[('inner join', 16044, 4580), ('left join', 16044, 4580)]"
      ]
     },
     "execution_count": 31,
     "metadata": {},
     "output_type": "execute_result"
    }
   ],
   "source": [
    "%%sql\n",
    "-- Create LEFT JOIN table\n",
    "DROP TABLE IF EXISTS left_rental_join;\n",
    "CREATE TEMP TABLE left_rental_join AS\n",
    "SELECT\n",
    "   rental.customer_id,\n",
    "   rental.inventory_id,\n",
    "   inventory.film_id\n",
    "FROM dvd_rentals.rental\n",
    "LEFT JOIN dvd_rentals.inventory\n",
    "ON rental.inventory_id = inventory.inventory_id;\n",
    "  -- Create INNER JOIN table\n",
    "DROP TABLE IF EXISTS inner_rental_join;\n",
    "CREATE TEMP TABLE inner_rental_join AS\n",
    "SELECT\n",
    "   rental.customer_id,\n",
    "   rental.inventory_id,\n",
    "   inventory.film_id\n",
    "FROM dvd_rentals.rental\n",
    "INNER JOIN dvd_rentals.inventory\n",
    "ON rental.inventory_id = inventory.inventory_id;\n",
    "\n",
    "  -- Check the counts for each output\n",
    "(\n",
    "SELECT\n",
    "  'left join' AS join_type,\n",
    "  COUNT(*) AS record_count,\n",
    "  COUNT (DISTINCT inventory_id) AS unique_key_values\n",
    "FROM left_rental_join\n",
    ")\n",
    "UNION\n",
    "(\n",
    "SELECT\n",
    "  'inner join' AS join_type,\n",
    "  COUNT(*) AS record_count,\n",
    "  COUNT (DISTINCT inventory_id) AS unique_key_values\n",
    "FROM inner_rental_join\n",
    ");\n"
   ]
  },
  {
   "cell_type": "markdown",
   "metadata": {},
   "source": [
    "**FINDING:**\n",
    "There is no difference between an INNER JOIN or LEFT JOIN for these datasets."
   ]
  },
  {
   "cell_type": "markdown",
   "metadata": {},
   "source": [
    "> **Summary**\n",
    "\n",
    "I have now successfully answered all 3 questions for table join.\n",
    "\n",
    "*1. What is the purpose of joining these two tables?*\n",
    "\n",
    "I need to keep all of the customer rental records from `dvd_rentals.rental` and match up each record with its equivalent `film_id` value from the `dvd_rentals.inventory` table.\n",
    "\n",
    "*2. What is the distribution of foreign keys within each table?*\n",
    "\n",
    "There is a 1-to-many relationship between the `inventory_id` and the rows of the `dvd_rentals.rental` table.\n",
    "\n",
    "There is a 1-to-1 relationship between the `inventory_id` and the rows of the `dvd_rentals.inventory` table.\n",
    "\n",
    "*3. How many unique foreign key values exist in each table?*\n",
    "\n",
    "All of the foreign key values in `dvd_rentals.rental` exist in `dvd_rentals.inventory` and only 1 record `inventory_id = 5` exists only in the `dvd_rentals.inventory` table.\n",
    "\n",
    "There is an overlap of 4,580 unique `inventory_id` foreign key values which will exist after the join is complete.\n"
   ]
  },
  {
   "cell_type": "markdown",
   "metadata": {},
   "source": [
    "### 4.2. Join Journey Part 2"
   ]
  },
  {
   "cell_type": "markdown",
   "metadata": {},
   "source": [
    "#### Question 1: What is the purpose of joining these two tables?"
   ]
  },
  {
   "cell_type": "markdown",
   "metadata": {},
   "source": [
    "I want to match the films on film_id to obtain the title of each film."
   ]
  },
  {
   "cell_type": "markdown",
   "metadata": {},
   "source": [
    "##### a. What contextual hypotheses do I have about the data?"
   ]
  },
  {
   "cell_type": "markdown",
   "metadata": {},
   "source": [
    "There be 1-to-many relationship for `film_id` and the rows of the `dvd_rentals.inventory` table as one specific film might have multiple copies to be purchased at the rental store.\n",
    "\n",
    "There should be 1-to-1 relationship for `film_id` and the rows of the `dvd_rentals.film` table as it doesn’t make sense for there to be duplicates in this `dvd_rentals.film`."
   ]
  },
  {
   "cell_type": "markdown",
   "metadata": {},
   "source": [
    "##### b. How can I validate these assumptions?"
   ]
  },
  {
   "cell_type": "code",
   "execution_count": 32,
   "metadata": {},
   "outputs": [
    {
     "name": "stdout",
     "output_type": "stream",
     "text": [
      " * postgresql://postgres@localhost:5432/\n",
      "7 rows affected.\n"
     ]
    },
    {
     "data": {
      "text/html": [
       "<table>\n",
       "    <thead>\n",
       "        <tr>\n",
       "            <th>record_count</th>\n",
       "            <th>unique_film_id_values</th>\n",
       "        </tr>\n",
       "    </thead>\n",
       "    <tbody>\n",
       "        <tr>\n",
       "            <td>2</td>\n",
       "            <td>133</td>\n",
       "        </tr>\n",
       "        <tr>\n",
       "            <td>3</td>\n",
       "            <td>131</td>\n",
       "        </tr>\n",
       "        <tr>\n",
       "            <td>4</td>\n",
       "            <td>183</td>\n",
       "        </tr>\n",
       "        <tr>\n",
       "            <td>5</td>\n",
       "            <td>136</td>\n",
       "        </tr>\n",
       "        <tr>\n",
       "            <td>6</td>\n",
       "            <td>187</td>\n",
       "        </tr>\n",
       "        <tr>\n",
       "            <td>7</td>\n",
       "            <td>116</td>\n",
       "        </tr>\n",
       "        <tr>\n",
       "            <td>8</td>\n",
       "            <td>72</td>\n",
       "        </tr>\n",
       "    </tbody>\n",
       "</table>"
      ],
      "text/plain": [
       "[(2, 133), (3, 131), (4, 183), (5, 136), (6, 187), (7, 116), (8, 72)]"
      ]
     },
     "execution_count": 32,
     "metadata": {},
     "output_type": "execute_result"
    }
   ],
   "source": [
    "%%sql\n",
    "WITH base_counts AS (\n",
    "SELECT\n",
    "  film_id,\n",
    "  COUNT(*) AS record_count\n",
    "FROM dvd_rentals.inventory\n",
    "GROUP BY film_id\n",
    ")\n",
    "SELECT\n",
    "  record_count,\n",
    "  COUNT(DISTINCT film_id) as unique_film_id_values\n",
    "FROM base_counts\n",
    "GROUP BY record_count\n",
    "ORDER BY record_count;\n"
   ]
  },
  {
   "cell_type": "markdown",
   "metadata": {},
   "source": [
    "> I have a 1-to-many relationship for the `film_id` foreign key in our `dvd_rentals.inventory` table."
   ]
  },
  {
   "cell_type": "code",
   "execution_count": 33,
   "metadata": {},
   "outputs": [
    {
     "name": "stdout",
     "output_type": "stream",
     "text": [
      " * postgresql://postgres@localhost:5432/\n",
      "5 rows affected.\n"
     ]
    },
    {
     "data": {
      "text/html": [
       "<table>\n",
       "    <thead>\n",
       "        <tr>\n",
       "            <th>film_id</th>\n",
       "            <th>record_count</th>\n",
       "        </tr>\n",
       "    </thead>\n",
       "    <tbody>\n",
       "        <tr>\n",
       "            <td>273</td>\n",
       "            <td>1</td>\n",
       "        </tr>\n",
       "        <tr>\n",
       "            <td>51</td>\n",
       "            <td>1</td>\n",
       "        </tr>\n",
       "        <tr>\n",
       "            <td>951</td>\n",
       "            <td>1</td>\n",
       "        </tr>\n",
       "        <tr>\n",
       "            <td>839</td>\n",
       "            <td>1</td>\n",
       "        </tr>\n",
       "        <tr>\n",
       "            <td>652</td>\n",
       "            <td>1</td>\n",
       "        </tr>\n",
       "    </tbody>\n",
       "</table>"
      ],
      "text/plain": [
       "[(273, 1), (51, 1), (951, 1), (839, 1), (652, 1)]"
      ]
     },
     "execution_count": 33,
     "metadata": {},
     "output_type": "execute_result"
    }
   ],
   "source": [
    "%%sql\n",
    "SELECT\n",
    "  film_id,\n",
    "  COUNT(*) AS record_count\n",
    "FROM dvd_rentals.film\n",
    "GROUP BY film_id\n",
    "ORDER BY record_count DESC\n",
    "LIMIT 5;\n"
   ]
  },
  {
   "cell_type": "markdown",
   "metadata": {},
   "source": [
    "> I can now also confirm that there is a 1-to-1 relationship in the `dvd_rentals.film`."
   ]
  },
  {
   "cell_type": "markdown",
   "metadata": {},
   "source": [
    "#### Question 2: What is the distribution of foreign keys within each table?"
   ]
  },
  {
   "cell_type": "markdown",
   "metadata": {},
   "source": [
    "I already did this with my previous summarized group by count when confirming my hypotheses for both tables."
   ]
  },
  {
   "cell_type": "markdown",
   "metadata": {},
   "source": [
    "#### Question 3: How many unique foreign key values exist in each table?"
   ]
  },
  {
   "cell_type": "markdown",
   "metadata": {},
   "source": [
    "**How many foreign keys only exist in the inventory table**"
   ]
  },
  {
   "cell_type": "code",
   "execution_count": 34,
   "metadata": {},
   "outputs": [
    {
     "name": "stdout",
     "output_type": "stream",
     "text": [
      " * postgresql://postgres@localhost:5432/\n",
      "1 rows affected.\n"
     ]
    },
    {
     "data": {
      "text/html": [
       "<table>\n",
       "    <thead>\n",
       "        <tr>\n",
       "            <th>count</th>\n",
       "        </tr>\n",
       "    </thead>\n",
       "    <tbody>\n",
       "        <tr>\n",
       "            <td>0</td>\n",
       "        </tr>\n",
       "    </tbody>\n",
       "</table>"
      ],
      "text/plain": [
       "[(0,)]"
      ]
     },
     "execution_count": 34,
     "metadata": {},
     "output_type": "execute_result"
    }
   ],
   "source": [
    "%%sql\n",
    "SELECT\n",
    "  COUNT(DISTINCT inventory.film_id)\n",
    "FROM dvd_rentals.inventory\n",
    "WHERE NOT EXISTS (\n",
    "  SELECT film_id\n",
    "  FROM dvd_rentals.film\n",
    "  WHERE film.film_id = inventory.film_id\n",
    ");\n"
   ]
  },
  {
   "cell_type": "markdown",
   "metadata": {},
   "source": [
    "> I can conclude that all of the `film_id` records from the `dvd_rentals.inventory` table exist in the `dvd_rentals.film` table."
   ]
  },
  {
   "cell_type": "markdown",
   "metadata": {},
   "source": [
    "**How many foreign keys only exist in the film table**"
   ]
  },
  {
   "cell_type": "code",
   "execution_count": 35,
   "metadata": {},
   "outputs": [
    {
     "name": "stdout",
     "output_type": "stream",
     "text": [
      " * postgresql://postgres@localhost:5432/\n",
      "1 rows affected.\n"
     ]
    },
    {
     "data": {
      "text/html": [
       "<table>\n",
       "    <thead>\n",
       "        <tr>\n",
       "            <th>count</th>\n",
       "        </tr>\n",
       "    </thead>\n",
       "    <tbody>\n",
       "        <tr>\n",
       "            <td>42</td>\n",
       "        </tr>\n",
       "    </tbody>\n",
       "</table>"
      ],
      "text/plain": [
       "[(42,)]"
      ]
     },
     "execution_count": 35,
     "metadata": {},
     "output_type": "execute_result"
    }
   ],
   "source": [
    "%%sql\n",
    "SELECT\n",
    "  COUNT(DISTINCT film.film_id)\n",
    "FROM dvd_rentals.film\n",
    "WHERE NOT EXISTS (\n",
    "  SELECT film_id\n",
    "  FROM dvd_rentals.inventory\n",
    "  WHERE film.film_id = inventory.film_id\n",
    ")"
   ]
  },
  {
   "cell_type": "markdown",
   "metadata": {},
   "source": [
    "**Check that total count of distinct foreign key values that will be generated when I use a left semi join on `dvd_rentals.inventory` as the base left table.**"
   ]
  },
  {
   "cell_type": "code",
   "execution_count": 36,
   "metadata": {},
   "outputs": [
    {
     "name": "stdout",
     "output_type": "stream",
     "text": [
      " * postgresql://postgres@localhost:5432/\n",
      "1 rows affected.\n"
     ]
    },
    {
     "data": {
      "text/html": [
       "<table>\n",
       "    <thead>\n",
       "        <tr>\n",
       "            <th>count</th>\n",
       "        </tr>\n",
       "    </thead>\n",
       "    <tbody>\n",
       "        <tr>\n",
       "            <td>958</td>\n",
       "        </tr>\n",
       "    </tbody>\n",
       "</table>"
      ],
      "text/plain": [
       "[(958,)]"
      ]
     },
     "execution_count": 36,
     "metadata": {},
     "output_type": "execute_result"
    }
   ],
   "source": [
    "%%sql\n",
    "SELECT\n",
    "  COUNT(DISTINCT film_id)\n",
    "FROM dvd_rentals.inventory\n",
    "-- note how the NOT is no longer here for a left semi join\n",
    "-- compared to the anti join!\n",
    "WHERE EXISTS (\n",
    "  SELECT film_id\n",
    "  FROM dvd_rentals.film\n",
    "  WHERE film.film_id = inventory.film_id\n",
    ")"
   ]
  },
  {
   "cell_type": "markdown",
   "metadata": {},
   "source": [
    "**Join implementation**"
   ]
  },
  {
   "cell_type": "code",
   "execution_count": 38,
   "metadata": {},
   "outputs": [
    {
     "name": "stdout",
     "output_type": "stream",
     "text": [
      " * postgresql://postgres@localhost:5432/\n",
      "Done.\n",
      "4581 rows affected.\n",
      "Done.\n",
      "4581 rows affected.\n",
      "2 rows affected.\n"
     ]
    },
    {
     "data": {
      "text/html": [
       "<table>\n",
       "    <thead>\n",
       "        <tr>\n",
       "            <th>join_type</th>\n",
       "            <th>record_count</th>\n",
       "            <th>unique_key_values</th>\n",
       "        </tr>\n",
       "    </thead>\n",
       "    <tbody>\n",
       "        <tr>\n",
       "            <td>left join</td>\n",
       "            <td>4581</td>\n",
       "            <td>958</td>\n",
       "        </tr>\n",
       "        <tr>\n",
       "            <td>inner join</td>\n",
       "            <td>4581</td>\n",
       "            <td>958</td>\n",
       "        </tr>\n",
       "    </tbody>\n",
       "</table>"
      ],
      "text/plain": [
       "[('left join', 4581, 958), ('inner join', 4581, 958)]"
      ]
     },
     "execution_count": 38,
     "metadata": {},
     "output_type": "execute_result"
    }
   ],
   "source": [
    "%%sql\n",
    "DROP TABLE IF EXISTS left_join_part_2;\n",
    "CREATE TEMP TABLE left_join_part_2 AS\n",
    "SELECT\n",
    "  inventory.inventory_id,\n",
    "  inventory.film_id,\n",
    "  film.title\n",
    "FROM dvd_rentals.inventory\n",
    "LEFT JOIN dvd_rentals.film\n",
    "  ON film.film_id = inventory.film_id;\n",
    "\n",
    "DROP TABLE IF EXISTS inner_join_part_2;\n",
    "CREATE TEMP TABLE inner_join_part_2 AS\n",
    "SELECT\n",
    "  inventory.inventory_id,\n",
    "  inventory.film_id,\n",
    "  film.title\n",
    "FROM dvd_rentals.inventory\n",
    "INNER JOIN dvd_rentals.film\n",
    "  ON film.film_id = inventory.film_id;\n",
    "-- check the counts for each output (bonus UNION usage)\n",
    "(\n",
    "  SELECT\n",
    "    'left join' AS join_type,\n",
    "    COUNT(*) AS record_count,\n",
    "    COUNT(DISTINCT film_id) AS unique_key_values\n",
    "  FROM left_join_part_2\n",
    ")\n",
    "-- Use UNION ALL here because I do not need UNION for distinct values!\n",
    "UNION ALL\n",
    "(\n",
    "  SELECT\n",
    "    'inner join' AS join_type,\n",
    "    COUNT(*) AS record_count,\n",
    "    COUNT(DISTINCT film_id) AS unique_key_values\n",
    "  FROM inner_join_part_2\n",
    ")\n"
   ]
  },
  {
   "cell_type": "code",
   "execution_count": 39,
   "metadata": {},
   "outputs": [
    {
     "name": "stdout",
     "output_type": "stream",
     "text": [
      " * postgresql://postgres@localhost:5432/\n",
      "Done.\n",
      "16044 rows affected.\n",
      "10 rows affected.\n"
     ]
    },
    {
     "data": {
      "text/html": [
       "<table>\n",
       "    <thead>\n",
       "        <tr>\n",
       "            <th>customer_id</th>\n",
       "            <th>film_id</th>\n",
       "            <th>title</th>\n",
       "        </tr>\n",
       "    </thead>\n",
       "    <tbody>\n",
       "        <tr>\n",
       "            <td>130</td>\n",
       "            <td>80</td>\n",
       "            <td>BLANKET BEVERLY</td>\n",
       "        </tr>\n",
       "        <tr>\n",
       "            <td>459</td>\n",
       "            <td>333</td>\n",
       "            <td>FREAKY POCUS</td>\n",
       "        </tr>\n",
       "        <tr>\n",
       "            <td>408</td>\n",
       "            <td>373</td>\n",
       "            <td>GRADUATE LORD</td>\n",
       "        </tr>\n",
       "        <tr>\n",
       "            <td>333</td>\n",
       "            <td>535</td>\n",
       "            <td>LOVE SUICIDES</td>\n",
       "        </tr>\n",
       "        <tr>\n",
       "            <td>222</td>\n",
       "            <td>450</td>\n",
       "            <td>IDOLS SNATCHERS</td>\n",
       "        </tr>\n",
       "        <tr>\n",
       "            <td>549</td>\n",
       "            <td>613</td>\n",
       "            <td>MYSTIC TRUMAN</td>\n",
       "        </tr>\n",
       "        <tr>\n",
       "            <td>269</td>\n",
       "            <td>870</td>\n",
       "            <td>SWARM GOLD</td>\n",
       "        </tr>\n",
       "        <tr>\n",
       "            <td>239</td>\n",
       "            <td>510</td>\n",
       "            <td>LAWLESS VISION</td>\n",
       "        </tr>\n",
       "        <tr>\n",
       "            <td>126</td>\n",
       "            <td>565</td>\n",
       "            <td>MATRIX SNOWMAN</td>\n",
       "        </tr>\n",
       "        <tr>\n",
       "            <td>399</td>\n",
       "            <td>396</td>\n",
       "            <td>HANGING DEEP</td>\n",
       "        </tr>\n",
       "    </tbody>\n",
       "</table>"
      ],
      "text/plain": [
       "[(130, 80, 'BLANKET BEVERLY'),\n",
       " (459, 333, 'FREAKY POCUS'),\n",
       " (408, 373, 'GRADUATE LORD'),\n",
       " (333, 535, 'LOVE SUICIDES'),\n",
       " (222, 450, 'IDOLS SNATCHERS'),\n",
       " (549, 613, 'MYSTIC TRUMAN'),\n",
       " (269, 870, 'SWARM GOLD'),\n",
       " (239, 510, 'LAWLESS VISION'),\n",
       " (126, 565, 'MATRIX SNOWMAN'),\n",
       " (399, 396, 'HANGING DEEP')]"
      ]
     },
     "execution_count": 39,
     "metadata": {},
     "output_type": "execute_result"
    }
   ],
   "source": [
    "%%sql\n",
    "DROP TABLE IF EXISTS join_parts_1_and_2;\n",
    "CREATE TEMP TABLE join_parts_1_and_2 AS\n",
    "SELECT\n",
    "  rental.customer_id,\n",
    "  inventory.film_id,\n",
    "  film.title\n",
    "FROM dvd_rentals.rental\n",
    "INNER JOIN dvd_rentals.inventory\n",
    "  ON rental.inventory_id = inventory.inventory_id\n",
    "INNER JOIN dvd_rentals.film\n",
    "  ON inventory.film_id = film.film_id;\n",
    "\n",
    "SELECT * FROM join_parts_1_and_2 limit 10;"
   ]
  },
  {
   "cell_type": "markdown",
   "metadata": {},
   "source": [
    "### 4.4. Joining Part 3"
   ]
  },
  {
   "cell_type": "markdown",
   "metadata": {},
   "source": [
    " There is a 1-to-1 relationship for `film_id` in both left and right tables `dvd_rentals.film` and `dvd_rentals.film_category` forpart 3 of my table join journey.\n",
    "\n",
    " For part 4 - I can do the same for the 1-to-many relationship between `category_id` and the left `dvd_rentals.film_category` and a 1-to-1 relationship for the `dvd_rentals.category` table."
   ]
  },
  {
   "cell_type": "code",
   "execution_count": 40,
   "metadata": {},
   "outputs": [
    {
     "name": "stdout",
     "output_type": "stream",
     "text": [
      " * postgresql://postgres@localhost:5432/\n",
      "Done.\n",
      "16044 rows affected.\n",
      "10 rows affected.\n"
     ]
    },
    {
     "data": {
      "text/html": [
       "<table>\n",
       "    <thead>\n",
       "        <tr>\n",
       "            <th>customer_id</th>\n",
       "            <th>film_id</th>\n",
       "            <th>title</th>\n",
       "            <th>category_id</th>\n",
       "            <th>category_name</th>\n",
       "        </tr>\n",
       "    </thead>\n",
       "    <tbody>\n",
       "        <tr>\n",
       "            <td>130</td>\n",
       "            <td>80</td>\n",
       "            <td>BLANKET BEVERLY</td>\n",
       "            <td>8</td>\n",
       "            <td>Family</td>\n",
       "        </tr>\n",
       "        <tr>\n",
       "            <td>459</td>\n",
       "            <td>333</td>\n",
       "            <td>FREAKY POCUS</td>\n",
       "            <td>12</td>\n",
       "            <td>Music</td>\n",
       "        </tr>\n",
       "        <tr>\n",
       "            <td>408</td>\n",
       "            <td>373</td>\n",
       "            <td>GRADUATE LORD</td>\n",
       "            <td>3</td>\n",
       "            <td>Children</td>\n",
       "        </tr>\n",
       "        <tr>\n",
       "            <td>333</td>\n",
       "            <td>535</td>\n",
       "            <td>LOVE SUICIDES</td>\n",
       "            <td>11</td>\n",
       "            <td>Horror</td>\n",
       "        </tr>\n",
       "        <tr>\n",
       "            <td>222</td>\n",
       "            <td>450</td>\n",
       "            <td>IDOLS SNATCHERS</td>\n",
       "            <td>3</td>\n",
       "            <td>Children</td>\n",
       "        </tr>\n",
       "        <tr>\n",
       "            <td>549</td>\n",
       "            <td>613</td>\n",
       "            <td>MYSTIC TRUMAN</td>\n",
       "            <td>5</td>\n",
       "            <td>Comedy</td>\n",
       "        </tr>\n",
       "        <tr>\n",
       "            <td>269</td>\n",
       "            <td>870</td>\n",
       "            <td>SWARM GOLD</td>\n",
       "            <td>11</td>\n",
       "            <td>Horror</td>\n",
       "        </tr>\n",
       "        <tr>\n",
       "            <td>239</td>\n",
       "            <td>510</td>\n",
       "            <td>LAWLESS VISION</td>\n",
       "            <td>2</td>\n",
       "            <td>Animation</td>\n",
       "        </tr>\n",
       "        <tr>\n",
       "            <td>126</td>\n",
       "            <td>565</td>\n",
       "            <td>MATRIX SNOWMAN</td>\n",
       "            <td>9</td>\n",
       "            <td>Foreign</td>\n",
       "        </tr>\n",
       "        <tr>\n",
       "            <td>399</td>\n",
       "            <td>396</td>\n",
       "            <td>HANGING DEEP</td>\n",
       "            <td>7</td>\n",
       "            <td>Drama</td>\n",
       "        </tr>\n",
       "    </tbody>\n",
       "</table>"
      ],
      "text/plain": [
       "[(130, 80, 'BLANKET BEVERLY', 8, 'Family'),\n",
       " (459, 333, 'FREAKY POCUS', 12, 'Music'),\n",
       " (408, 373, 'GRADUATE LORD', 3, 'Children'),\n",
       " (333, 535, 'LOVE SUICIDES', 11, 'Horror'),\n",
       " (222, 450, 'IDOLS SNATCHERS', 3, 'Children'),\n",
       " (549, 613, 'MYSTIC TRUMAN', 5, 'Comedy'),\n",
       " (269, 870, 'SWARM GOLD', 11, 'Horror'),\n",
       " (239, 510, 'LAWLESS VISION', 2, 'Animation'),\n",
       " (126, 565, 'MATRIX SNOWMAN', 9, 'Foreign'),\n",
       " (399, 396, 'HANGING DEEP', 7, 'Drama')]"
      ]
     },
     "execution_count": 40,
     "metadata": {},
     "output_type": "execute_result"
    }
   ],
   "source": [
    "%%sql\n",
    "DROP TABLE IF EXISTS complete_joint_dataset;\n",
    "CREATE TEMP TABLE complete_joint_dataset AS\n",
    "SELECT\n",
    "  rental.customer_id,\n",
    "  inventory.film_id,\n",
    "  film.title,\n",
    "  film_category.category_id,\n",
    "  category.name AS category_name\n",
    "FROM dvd_rentals.rental\n",
    "INNER JOIN dvd_rentals.inventory\n",
    "  ON rental.inventory_id = inventory.inventory_id\n",
    "INNER JOIN dvd_rentals.film\n",
    "  ON inventory.film_id = film.film_id\n",
    "INNER JOIN dvd_rentals.film_category\n",
    "  ON film.film_id = film_category.film_id\n",
    "INNER JOIN dvd_rentals.category\n",
    "  ON film_category.category_id = category.category_id;\n",
    "\n",
    "SELECT * FROM complete_joint_dataset limit 10;"
   ]
  },
  {
   "cell_type": "markdown",
   "metadata": {},
   "source": [
    "Compare to the inner join option:"
   ]
  },
  {
   "cell_type": "code",
   "execution_count": 41,
   "metadata": {},
   "outputs": [
    {
     "name": "stdout",
     "output_type": "stream",
     "text": [
      " * postgresql://postgres@localhost:5432/\n",
      "Done.\n",
      "16044 rows affected.\n",
      "2 rows affected.\n"
     ]
    },
    {
     "data": {
      "text/html": [
       "<table>\n",
       "    <thead>\n",
       "        <tr>\n",
       "            <th>join_type</th>\n",
       "            <th>final_record_count</th>\n",
       "        </tr>\n",
       "    </thead>\n",
       "    <tbody>\n",
       "        <tr>\n",
       "            <td>inner join</td>\n",
       "            <td>16044</td>\n",
       "        </tr>\n",
       "        <tr>\n",
       "            <td>left join</td>\n",
       "            <td>16044</td>\n",
       "        </tr>\n",
       "    </tbody>\n",
       "</table>"
      ],
      "text/plain": [
       "[('inner join', 16044), ('left join', 16044)]"
      ]
     },
     "execution_count": 41,
     "metadata": {},
     "output_type": "execute_result"
    }
   ],
   "source": [
    "%%sql\n",
    "DROP TABLE IF EXISTS complete_left_join_dataset;\n",
    "CREATE TEMP TABLE complete_left_join_dataset AS\n",
    "SELECT\n",
    "  rental.customer_id,\n",
    "  inventory.film_id,\n",
    "  film.title,\n",
    "  category.name AS category_name\n",
    "FROM dvd_rentals.rental\n",
    "LEFT JOIN dvd_rentals.inventory\n",
    "  ON rental.inventory_id = inventory.inventory_id\n",
    "LEFT JOIN dvd_rentals.film\n",
    "  ON inventory.film_id = film.film_id\n",
    "LEFT JOIN dvd_rentals.film_category\n",
    "  ON film.film_id = film_category.film_id\n",
    "LEFT JOIN dvd_rentals.category\n",
    "  ON film_category.category_id = category.category_id;\n",
    "\n",
    "SELECT\n",
    "  'left join' AS join_type,\n",
    "  COUNT(*) AS final_record_count\n",
    "FROM complete_left_join_dataset\n",
    "UNION\n",
    "SELECT\n",
    "  'inner join' AS join_type,\n",
    "  COUNT(*) AS final_record_count\n",
    "FROM complete_joint_dataset;"
   ]
  }
 ],
 "metadata": {
  "kernelspec": {
   "display_name": "Python 3",
   "language": "python",
   "name": "python3"
  },
  "language_info": {
   "codemirror_mode": {
    "name": "ipython",
    "version": 3
   },
   "file_extension": ".py",
   "mimetype": "text/x-python",
   "name": "python",
   "nbconvert_exporter": "python",
   "pygments_lexer": "ipython3",
   "version": "3.12.4"
  }
 },
 "nbformat": 4,
 "nbformat_minor": 2
}
