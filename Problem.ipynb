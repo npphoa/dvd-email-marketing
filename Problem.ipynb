{
 "cells": [
  {
   "cell_type": "markdown",
   "metadata": {},
   "source": [
    "# Problem"
   ]
  },
  {
   "cell_type": "markdown",
   "metadata": {},
   "source": [
    "I have been tasked by the DVD Rental Co marketing team to help them generate the analytical inputs required to drive their very first customer email campaign.\n",
    "\n",
    "The marketing team expects their personalised emails to drive increased sales and engagement from the DVD Rental Co customer base.\n",
    "\n",
    "The main initiative is to share insights about each customer’s viewing behaviour to demonstrate DVD Rental Co’s relentless focus on customer experience.\n",
    "\n",
    "The insights requested by the marketing team include key statistics about each customer’s top 2 categories and favourite actor. There are also 3 personalised recommendations based off each customer’s previous viewing history as well as titles which are popular with other customers.\n",
    "\n",
    "<img src=\"images/email-template.png\" width=40% height=40%>"
   ]
  },
  {
   "cell_type": "markdown",
   "metadata": {},
   "source": [
    "## 1. Email Template"
   ]
  },
  {
   "cell_type": "markdown",
   "metadata": {},
   "source": [
    "The email template has been provided and consists of the following data analytics and customer insight components numbered and detailed below:"
   ]
  },
  {
   "cell_type": "markdown",
   "metadata": {},
   "source": [
    "### 1.1. Category Insights"
   ]
  },
  {
   "cell_type": "markdown",
   "metadata": {},
   "source": [
    "#### 1.1.1. Top Category"
   ]
  },
  {
   "cell_type": "markdown",
   "metadata": {},
   "source": [
    "1. What was the top category watched by total rental count?\n",
    "\n",
    "2. How many total films have they watched in their top category and how does it compare to the DVD Rental Co customer base?\n",
    "* How many more films has the customer watched compared to the average DVD Rental Co customer?\n",
    "* How does the customer rank in terms of the top X% compared to all other customers in this film category?\n",
    "\n",
    "3. What are the top 3 film recommendations in the top category ranked by total customer rental count which the customer has not seen before?"
   ]
  },
  {
   "cell_type": "markdown",
   "metadata": {},
   "source": [
    "### 1.1.2. Second Category"
   ]
  },
  {
   "cell_type": "markdown",
   "metadata": {},
   "source": [
    "4. What is the second ranking category by total rental count?\n",
    "\n",
    "5. What proportion of each customer’s total films watched does this count make?\n",
    "\n",
    "6. What are top 3 recommendations for the second category which the customer has not yet seen before?"
   ]
  },
  {
   "cell_type": "markdown",
   "metadata": {},
   "source": [
    "### 1.1.3. Actor insights"
   ]
  },
  {
   "cell_type": "markdown",
   "metadata": {},
   "source": [
    "7. Which actor has featured in the customer’s rental history the most?\n",
    "\n",
    "8. How many films featuring this actor has been watched by the customer?\n",
    "\n",
    "9. What are the top 3 recommendations featuring this same actor which have not been watched by the customer?"
   ]
  },
  {
   "cell_type": "markdown",
   "metadata": {},
   "source": [
    "## 1.2. Entity Relationship Diagram"
   ]
  },
  {
   "cell_type": "markdown",
   "metadata": {},
   "source": [
    "<img src=\"images/ERD full.png\">"
   ]
  }
 ],
 "metadata": {
  "kernelspec": {
   "display_name": "Python 3",
   "language": "python",
   "name": "python3"
  },
  "language_info": {
   "codemirror_mode": {
    "name": "ipython",
    "version": 3
   },
   "file_extension": ".py",
   "mimetype": "text/x-python",
   "name": "python",
   "nbconvert_exporter": "python",
   "pygments_lexer": "ipython3",
   "version": "3.12.4"
  }
 },
 "nbformat": 4,
 "nbformat_minor": 2
}
